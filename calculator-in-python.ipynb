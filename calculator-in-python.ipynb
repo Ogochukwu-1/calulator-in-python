{
 "cells": [
  {
   "cell_type": "code",
   "execution_count": 66,
   "id": "9f1581b6",
   "metadata": {},
   "outputs": [
    {
     "name": "stdout",
     "output_type": "stream",
     "text": [
      "select an operation to perform\n",
      "1. ADD\n",
      "2. SUBTRACT\n",
      "3. MULTIPLY\n",
      "4. DIVIDE\n",
      "3\n",
      "Enter first number: 5\n",
      "Enter second number: 4\n",
      "The product is 20\n"
     ]
    }
   ],
   "source": [
    "#HOW TO BUILD A SIMPLE CALCULATOR IN PYTHON\n",
    "# 1. ADD\n",
    "# 2. SUBTRACT\n",
    "# 3. MULTIPLY\n",
    "# 4. DIVIDE\n",
    "\n",
    "print(\"select an operation to perform\")\n",
    "print(\"1. ADD\")\n",
    "print(\"2. SUBTRACT\")\n",
    "print(\"3. MULTIPLY\")\n",
    "print(\"4. DIVIDE\")\n",
    "\n",
    "operation = input()\n",
    "\n",
    "if operation == \"1\":\n",
    "    num1 = input(\"Enter first number: \")\n",
    "    num2 = input(\"enter second number: \")\n",
    "    print(\"The sum is \" + str(int(num1) + int(num2)))\n",
    "elif operation == \"2\":\n",
    "     num1 = input(\"Enter first number: \")\n",
    "     num2 = input(\"Enter second number: \")\n",
    "     print(\"The difference is \" + str(int(num1) - int(num2)))\n",
    "elif operation == \"3\":\n",
    "    num1 = input(\"Enter first number: \")\n",
    "    num2 = input(\"Enter second number: \")\n",
    "    print(\"The product is \" + str(int(num1) * int(num2)))\n",
    "elif operation == \"4\":\n",
    "    num1 = input(\"Enter first number: \")\n",
    "    num2 = input(\"Enter second number: \")\n",
    "    print(\"The division is \" + str(int(num1) / int(num2)))\n",
    "else:\n",
    "    print(\"invalid entry\")"
   ]
  },
  {
   "cell_type": "code",
   "execution_count": null,
   "id": "bc27caaf",
   "metadata": {},
   "outputs": [],
   "source": []
  }
 ],
 "metadata": {
  "kernelspec": {
   "display_name": "Python 3 (ipykernel)",
   "language": "python",
   "name": "python3"
  },
  "language_info": {
   "codemirror_mode": {
    "name": "ipython",
    "version": 3
   },
   "file_extension": ".py",
   "mimetype": "text/x-python",
   "name": "python",
   "nbconvert_exporter": "python",
   "pygments_lexer": "ipython3",
   "version": "3.9.12"
  }
 },
 "nbformat": 4,
 "nbformat_minor": 5
}
